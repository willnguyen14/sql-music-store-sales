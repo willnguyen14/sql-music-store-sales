{
 "cells": [
  {
   "cell_type": "markdown",
   "metadata": {},
   "source": [
    "# Optimizing Sales with Business Decisions — Analyzing Music Market Trends and Company Sales Performances\n",
    "Chinook is a fictional digital online music shop that sells a wide variety of tracks of many different genres. Consisting of only eight employees, Chinook is a small startup retail store with the goal of becoming a store customers and rely on and come back to. Being a music retail store, it acts as the middle man between buyers and the tracks they want to buy, and since Chinook is an online store, this offers great convienience for customers who want to buy tracks.\n",
    "\n",
    "The fact that there is such a great variety of tracks from different artists and genres, Chinook needs to be mindful of their budget when purchasing tracks from record labels that they sign with and what they can do to optimize the performance of their sales. As a data analyst for Chinook, we will use SQL to find the answers we want and make the appropriate decisions that can help Chinook propel forward.\n",
    "\n",
    "In this situation, we have 4 questions that we have been assigned to answer:\n",
    " 1. Chinook has signed with a new record label; how can we determine which are the best artists to sell in our store? We will have to choose our artists by identifying which are the best performing genres in the USA.\n",
    " 2. Are our Sales Support Agents doing well? This is important because our Agents directly engage with customers who have made a purchase with the store.\n",
    " 3. How are our sales doing internationally? Which countries should have more priority? We will use basic summary aggregate statistics to make a conclusion.\n",
    " 4. Can the company afford to save some money by limiting what we buy from our sellers? By making a large-scale aggregation with all of our sales data will we find out if this is a good idea."
   ]
  },
  {
   "cell_type": "markdown",
   "metadata": {},
   "source": [
    "# Loading the Chinook Database Into Our SQL Engine\n",
    "Use the following code to connect our Jupyter Notebook to our database file.\n",
    "\n",
    "You can download the database file here: `github link`"
   ]
  },
  {
   "cell_type": "code",
   "execution_count": 1,
   "metadata": {},
   "outputs": [],
   "source": [
    "%%capture\n",
    "%load_ext sql\n",
    "%sql sqlite:///chinook.db"
   ]
  },
  {
   "cell_type": "markdown",
   "metadata": {},
   "source": [
    "# What does our database look like?\n",
    "The first thing to do is to see what the database actually consists of and if there's any views present to see what we are actually working with. First, we will briefly explore the database to gain familiarity with it and see what tables and views are present.\n",
    "\n",
    "Here, we see that there are many tables available to work with. To making navigating through the database easier and to understand the relationship between all of the tables, we have been provided with its schema table.\n",
    "![Image](https://s3.amazonaws.com/dq-content/191/chinook-schema.svg)"
   ]
  },
  {
   "cell_type": "code",
   "execution_count": 2,
   "metadata": {},
   "outputs": [
    {
     "name": "stdout",
     "output_type": "stream",
     "text": [
      " * sqlite:///chinook.db\n",
      "Done.\n"
     ]
    },
    {
     "data": {
      "text/html": [
       "<table>\n",
       "    <thead>\n",
       "        <tr>\n",
       "            <th>name</th>\n",
       "            <th>type</th>\n",
       "        </tr>\n",
       "    </thead>\n",
       "    <tbody>\n",
       "        <tr>\n",
       "            <td>album</td>\n",
       "            <td>table</td>\n",
       "        </tr>\n",
       "        <tr>\n",
       "            <td>artist</td>\n",
       "            <td>table</td>\n",
       "        </tr>\n",
       "        <tr>\n",
       "            <td>customer</td>\n",
       "            <td>table</td>\n",
       "        </tr>\n",
       "        <tr>\n",
       "            <td>employee</td>\n",
       "            <td>table</td>\n",
       "        </tr>\n",
       "        <tr>\n",
       "            <td>genre</td>\n",
       "            <td>table</td>\n",
       "        </tr>\n",
       "        <tr>\n",
       "            <td>invoice</td>\n",
       "            <td>table</td>\n",
       "        </tr>\n",
       "        <tr>\n",
       "            <td>invoice_line</td>\n",
       "            <td>table</td>\n",
       "        </tr>\n",
       "        <tr>\n",
       "            <td>media_type</td>\n",
       "            <td>table</td>\n",
       "        </tr>\n",
       "        <tr>\n",
       "            <td>playlist</td>\n",
       "            <td>table</td>\n",
       "        </tr>\n",
       "        <tr>\n",
       "            <td>playlist_track</td>\n",
       "            <td>table</td>\n",
       "        </tr>\n",
       "        <tr>\n",
       "            <td>track</td>\n",
       "            <td>table</td>\n",
       "        </tr>\n",
       "        <tr>\n",
       "            <td>employee_sales</td>\n",
       "            <td>view</td>\n",
       "        </tr>\n",
       "    </tbody>\n",
       "</table>"
      ],
      "text/plain": [
       "[('album', 'table'),\n",
       " ('artist', 'table'),\n",
       " ('customer', 'table'),\n",
       " ('employee', 'table'),\n",
       " ('genre', 'table'),\n",
       " ('invoice', 'table'),\n",
       " ('invoice_line', 'table'),\n",
       " ('media_type', 'table'),\n",
       " ('playlist', 'table'),\n",
       " ('playlist_track', 'table'),\n",
       " ('track', 'table'),\n",
       " ('employee_sales', 'view')]"
      ]
     },
     "execution_count": 2,
     "metadata": {},
     "output_type": "execute_result"
    }
   ],
   "source": [
    "%%sql\n",
    "SELECT name, \n",
    "       type\n",
    "FROM sqlite_master --# /*think of the entire database as a table itself \n",
    "                   --#   and call upon it by referring to it as `sqlite_master`*/\n",
    "WHERE type IN ('table', 'view')"
   ]
  },
  {
   "cell_type": "markdown",
   "metadata": {},
   "source": [
    "# Which artists' tracks should we purchase?\n",
    "\n",
    "Chinook record store has just recently signed a deal with a new record label and have been provided with artists that have not yet had their tracks included on the Chinook store before. From this new record label we are provided with 4 different artists, all presiding within a different genre. This newly signed record label specializes in artists from the USA and has given Chinook a budget to advertise these artists in the USA, so we need to be able to identify which 3 out of these 4 artists would be best to purchase for our store.\n",
    "\n",
    "| Artist Name      | Genre |\n",
    "| ----------- | ----------- |\n",
    "| Regal      | Hip-Hop       |\n",
    "| Red Tone   | Punk     |\n",
    "| Meteor and the Girls   | Pop     |\n",
    "| Slim Jim Bites  | Blues     |\n",
    "\n",
    "Note that none of these artists have any tracks in the store right now, but we have information on what genre each artist belongs to — we can make our judgement by determining what genres perform the best in the USA based on Chinook's sales records."
   ]
  },
  {
   "cell_type": "code",
   "execution_count": 3,
   "metadata": {},
   "outputs": [
    {
     "name": "stdout",
     "output_type": "stream",
     "text": [
      " * sqlite:///chinook.db\n",
      "Done.\n"
     ]
    },
    {
     "data": {
      "text/plain": [
       "[]"
      ]
     },
     "execution_count": 3,
     "metadata": {},
     "output_type": "execute_result"
    }
   ],
   "source": [
    "%%sql\n",
    "DROP VIEW IF EXISTS genre_view"
   ]
  },
  {
   "cell_type": "code",
   "execution_count": 4,
   "metadata": {},
   "outputs": [
    {
     "name": "stdout",
     "output_type": "stream",
     "text": [
      " * sqlite:///chinook.db\n",
      "Done.\n"
     ]
    },
    {
     "data": {
      "text/plain": [
       "[]"
      ]
     },
     "execution_count": 4,
     "metadata": {},
     "output_type": "execute_result"
    }
   ],
   "source": [
    "%%sql\n",
    "CREATE VIEW genre_view AS \n",
    "WITH \n",
    "--# extract only USA data\n",
    "usa AS\n",
    "    (SELECT *\n",
    "       FROM invoice_line il\n",
    "       LEFT JOIN track t ON t.track_id = il.track_id\n",
    "       LEFT JOIN invoice i ON i.invoice_id = il.invoice_id\n",
    "      WHERE i.billing_country = 'USA'),\n",
    "\n",
    "--# count of each genre from the USA\n",
    "--# join in `genre` table using secondary key from `track` table\n",
    "genre_count AS\n",
    "    (SELECT g.name,\n",
    "            COUNT(g.name) AS count\n",
    "       FROM usa\n",
    "      INNER JOIN genre g ON g.genre_id = usa.genre_id\n",
    "      GROUP BY g.name)\n",
    "    \n",
    "SELECT name,\n",
    "       count,\n",
    "       --# calculate the percentages of all genres\n",
    "        ROUND(count / (\n",
    "                       SELECT CAST(SUM(count) AS FLOAT)\n",
    "                       FROM genre_count\n",
    "                      ) * 100 , 2) AS percent\n",
    "FROM genre_count\n",
    "GROUP BY name\n",
    "ORDER BY count DESC"
   ]
  },
  {
   "cell_type": "code",
   "execution_count": 5,
   "metadata": {},
   "outputs": [
    {
     "name": "stdout",
     "output_type": "stream",
     "text": [
      " * sqlite:///chinook.db\n",
      "Done.\n"
     ]
    },
    {
     "data": {
      "text/html": [
       "<table>\n",
       "    <thead>\n",
       "        <tr>\n",
       "            <th>name</th>\n",
       "            <th>count</th>\n",
       "            <th>percent</th>\n",
       "        </tr>\n",
       "    </thead>\n",
       "    <tbody>\n",
       "        <tr>\n",
       "            <td>Alternative &amp; Punk</td>\n",
       "            <td>130</td>\n",
       "            <td>12.37</td>\n",
       "        </tr>\n",
       "        <tr>\n",
       "            <td>Blues</td>\n",
       "            <td>36</td>\n",
       "            <td>3.43</td>\n",
       "        </tr>\n",
       "        <tr>\n",
       "            <td>Pop</td>\n",
       "            <td>22</td>\n",
       "            <td>2.09</td>\n",
       "        </tr>\n",
       "        <tr>\n",
       "            <td>Hip Hop/Rap</td>\n",
       "            <td>20</td>\n",
       "            <td>1.9</td>\n",
       "        </tr>\n",
       "    </tbody>\n",
       "</table>"
      ],
      "text/plain": [
       "[('Alternative & Punk', 130, 12.37),\n",
       " ('Blues', 36, 3.43),\n",
       " ('Pop', 22, 2.09),\n",
       " ('Hip Hop/Rap', 20, 1.9)]"
      ]
     },
     "execution_count": 5,
     "metadata": {},
     "output_type": "execute_result"
    }
   ],
   "source": [
    "%%sql\n",
    "SELECT *\n",
    "FROM genre_view\n",
    "WHERE name IN (\"Hip Hop/Rap\", \"Alternative & Punk\", \"Pop\", \"Blues\")\n",
    "--# these are the genres associated with the 4 artists we just signed"
   ]
  },
  {
   "cell_type": "markdown",
   "metadata": {},
   "source": [
    "To dig deeper and see what else we can find from these results, we'll load the VIEW output into a pandas dataframe and then visualize it with matplotlib."
   ]
  },
  {
   "cell_type": "code",
   "execution_count": 6,
   "metadata": {},
   "outputs": [
    {
     "data": {
      "text/plain": [
       "Text(0, 0.5, 'Genre')"
      ]
     },
     "execution_count": 6,
     "metadata": {},
     "output_type": "execute_result"
    },
    {
     "data": {
      "image/png": "[encoded data removed]",
      "text/plain": [
       "<Figure size 576x720 with 1 Axes>"
      ]
     },
     "metadata": {
      "needs_background": "light"
     },
     "output_type": "display_data"
    }
   ],
   "source": [
    "import pandas as pd\n",
    "import matplotlib.pyplot as plt\n",
    "import sqlite3\n",
    "\n",
    "# make database connection and read VIEW output into a pandas dataframe\n",
    "conn = sqlite3.connect(\"chinook.db\")\n",
    "df = pd.read_sql_query(\"\"\"SELECT *\n",
    "                          FROM genre_view\"\"\", conn)\n",
    "\n",
    "df = df.sort_values('percent')\n",
    "\n",
    "# plot horizontal bar chart\n",
    "ax = df.plot(kind='barh', x='name', y='percent', figsize=(8, 10), color={'sandybrown','lightseagreen'}, \n",
    "             zorder=2, width=0.9)\n",
    "\n",
    "# set the title\n",
    "ax.set_title(\"Genre Distribution in USA\", size=21)\n",
    "\n",
    "# remove all spines\n",
    "ax.spines['right'].set_visible(False)\n",
    "ax.spines['top'].set_visible(False)\n",
    "ax.spines['left'].set_visible(False)\n",
    "ax.spines['bottom'].set_visible(False)\n",
    "\n",
    "# hide ticks and legend\n",
    "ax.tick_params(axis=u'both', which=u'both',length=0)\n",
    "ax.get_legend().remove()\n",
    "\n",
    "# draw vertical axis lines\n",
    "vals = ax.get_xticks()\n",
    "for tick in vals:\n",
    "  ax.axvline(x=tick, linestyle='dashed', alpha=0.6, color='#eeeeee', zorder=1)\n",
    "\n",
    "# set labels\n",
    "ax.set_xlabel(\"Percentage\", labelpad=20, size=20)\n",
    "ax.set_ylabel(\"Genre\", labelpad=20, size=20)"
   ]
  },
  {
   "cell_type": "markdown",
   "metadata": {},
   "source": [
    "From the list of 4 artists we have been provided, I recommend purchasing tracks by \"Red Tone\", \"Slim Jim Bites\", and \"Meteor and the Girls\". I also recommend on placing more emphasis on tracks from \"Red Tone\", since the \"Alternative & Punk\" genre has sold an average of 104 more tracks than the other genres and is in second place in most tracks sold in the USA, right behind \"Rock\". \n",
    "\n",
    "In addition, for future decisions, it would be also best to try to purchase tracks from the \"Rock\" genre as much as possible, since this genre makes up over 50% of the store's sales in the USA!"
   ]
  },
  {
   "cell_type": "markdown",
   "metadata": {},
   "source": [
    "# Is there any room for improvement for our employees?\n",
    "\n",
    "Chinook highly values reliable engagement with our customers. Whenever a new customer makes their first purchase on the Chinook store, they get assigned to a sales support agent within the company. Because of this direct engagement with the customers, we want to see if there's any sales agent that's underperforming or doing exceptionally well. We also want to see if there are any variation in possible factors that could affect their performance so that the proper adjustments to assist our sales agents in producing more revenue.\n",
    "\n",
    "Although there is a slight variance in the performance of our sales support agents, there is nothing out of place to take note of or anything to worry about. The variance between the median sales among the sales support agents is +-\\\\$200, and this be explained by the hire dates we also decided to extract. Jane Peacock had the most sales at \\\\$1731.51 and Steve Johnson brought in \\\\$1393.92 in sales, with Margaret Park being the median at \\\\$1584.00. "
   ]
  },
  {
   "cell_type": "code",
   "execution_count": 7,
   "metadata": {},
   "outputs": [
    {
     "name": "stdout",
     "output_type": "stream",
     "text": [
      " * sqlite:///chinook.db\n",
      "Done.\n"
     ]
    },
    {
     "data": {
      "text/html": [
       "<table>\n",
       "    <thead>\n",
       "        <tr>\n",
       "            <th>employee_name</th>\n",
       "            <th>total_sales</th>\n",
       "            <th>hire_date</th>\n",
       "        </tr>\n",
       "    </thead>\n",
       "    <tbody>\n",
       "        <tr>\n",
       "            <td>Jane Peacock</td>\n",
       "            <td>1731.51</td>\n",
       "            <td>2017-04-01 00:00:00</td>\n",
       "        </tr>\n",
       "        <tr>\n",
       "            <td>Margaret Park</td>\n",
       "            <td>1584.0</td>\n",
       "            <td>2017-05-03 00:00:00</td>\n",
       "        </tr>\n",
       "        <tr>\n",
       "            <td>Steve Johnson</td>\n",
       "            <td>1393.92</td>\n",
       "            <td>2017-10-17 00:00:00</td>\n",
       "        </tr>\n",
       "    </tbody>\n",
       "</table>"
      ],
      "text/plain": [
       "[('Jane Peacock', 1731.51, '2017-04-01 00:00:00'),\n",
       " ('Margaret Park', 1584.0, '2017-05-03 00:00:00'),\n",
       " ('Steve Johnson', 1393.92, '2017-10-17 00:00:00')]"
      ]
     },
     "execution_count": 7,
     "metadata": {},
     "output_type": "execute_result"
    }
   ],
   "source": [
    "%%sql\n",
    "--# concatenate `first_name` and `last_name` columns to get full names of each employee\n",
    "WITH sales_employees AS\n",
    "    (SELECT employee_id,\n",
    "           first_name || ' ' || last_name AS employee_name,\n",
    "           hire_date\n",
    "      FROM employee\n",
    "     WHERE title = 'Sales Support Agent')\n",
    "    \n",
    "--# connect customers' total sales to each employee by joining in `customer` and `invoice` tables\n",
    "--# group total sales by employee\n",
    "SELECT e.employee_name,\n",
    "       ROUND(SUM(i.total), 2) AS total_sales,\n",
    "       hire_date\n",
    "FROM sales_employees e\n",
    "LEFT JOIN customer c ON c.support_rep_id = e.employee_id\n",
    "LEFT JOIN invoice i ON i.customer_id = c.customer_id\n",
    "GROUP BY e.employee_name"
   ]
  },
  {
   "cell_type": "markdown",
   "metadata": {},
   "source": [
    "We can see a trend that the earlier the hire date, the more sales. The later the hire date, the less sales. We can infer that someone who was hired at an earlier date was able to have more time to bring in more sales, but also have more time to gain more experience in doing so — someone hired at a later date has just started out, so they can't really be expected to bring in just as much sales as someone more experienced.\n",
    "\n",
    "I believe that our sales support agents are already doing well to the best of their abilities. It is only a matter of providing them enough time to build the experience necessary to bring in as much as sales as our best performing employee."
   ]
  },
  {
   "cell_type": "markdown",
   "metadata": {},
   "source": [
    "# In which country does Chinook perform the best in?"
   ]
  },
  {
   "cell_type": "markdown",
   "metadata": {},
   "source": [
    "As an online digital music shop, Chinook is able to draw in customers from nearly anywhere in the world. We want to know how our sales are doing from across all the countries our customers live in. Which countries do we consider as outliers? Which countries should have more priority based on their total sales? We have been advised to take careful consideration to refer to the `country` value from the customers table, not the `country` value from the billing address in the invoice table.\n",
    "\n",
    "We will use basic summary aggregate statistics by finding (for each country) the total number of customers, the total sales, the average value of a customer, and the average value per order to make a conclusion. Note that there are many countries with only one customer — these will be our outlier countries. To make our analysis easier to read, we will aggregate all countries with one customer into a value in the `country` column as \"Other\".\n",
    "\n",
    "We have found that the top 5 countries that generates the most sales for Chinook are: the USA, Canada, Brazil, France, and Germany. With the USA holding the highest number of our customers (by country) at 13 customers and also generating 22.1% of all our sales, the USA should be the most important country our customers are from. It should also be of importance that the Czech Republic has the highest average value per customer at \\\\$136.62, meaning customers from the Czech Republic has the highest WTP (willingness to pay) amongst all of our countries."
   ]
  },
  {
   "cell_type": "code",
   "execution_count": 8,
   "metadata": {},
   "outputs": [
    {
     "name": "stdout",
     "output_type": "stream",
     "text": [
      " * sqlite:///chinook.db\n",
      "Done.\n"
     ]
    },
    {
     "data": {
      "text/html": [
       "<table>\n",
       "    <thead>\n",
       "        <tr>\n",
       "            <th>country</th>\n",
       "            <th>number_of_customers</th>\n",
       "            <th>total_sales</th>\n",
       "            <th>avg_value_per_customer</th>\n",
       "            <th>avg_value_per_order</th>\n",
       "        </tr>\n",
       "    </thead>\n",
       "    <tbody>\n",
       "        <tr>\n",
       "            <td>USA</td>\n",
       "            <td>13</td>\n",
       "            <td>1040.49</td>\n",
       "            <td>80.04</td>\n",
       "            <td>7.94</td>\n",
       "        </tr>\n",
       "        <tr>\n",
       "            <td>Canada</td>\n",
       "            <td>8</td>\n",
       "            <td>535.59</td>\n",
       "            <td>66.95</td>\n",
       "            <td>7.05</td>\n",
       "        </tr>\n",
       "        <tr>\n",
       "            <td>Brazil</td>\n",
       "            <td>5</td>\n",
       "            <td>427.68</td>\n",
       "            <td>85.54</td>\n",
       "            <td>7.01</td>\n",
       "        </tr>\n",
       "        <tr>\n",
       "            <td>France</td>\n",
       "            <td>5</td>\n",
       "            <td>389.07</td>\n",
       "            <td>77.81</td>\n",
       "            <td>7.78</td>\n",
       "        </tr>\n",
       "        <tr>\n",
       "            <td>Germany</td>\n",
       "            <td>4</td>\n",
       "            <td>334.62</td>\n",
       "            <td>83.66</td>\n",
       "            <td>8.16</td>\n",
       "        </tr>\n",
       "        <tr>\n",
       "            <td>Czech Republic</td>\n",
       "            <td>2</td>\n",
       "            <td>273.24</td>\n",
       "            <td>136.62</td>\n",
       "            <td>9.11</td>\n",
       "        </tr>\n",
       "        <tr>\n",
       "            <td>United Kingdom</td>\n",
       "            <td>3</td>\n",
       "            <td>245.52</td>\n",
       "            <td>81.84</td>\n",
       "            <td>8.77</td>\n",
       "        </tr>\n",
       "        <tr>\n",
       "            <td>Portugal</td>\n",
       "            <td>2</td>\n",
       "            <td>185.13</td>\n",
       "            <td>92.57</td>\n",
       "            <td>6.38</td>\n",
       "        </tr>\n",
       "        <tr>\n",
       "            <td>India</td>\n",
       "            <td>2</td>\n",
       "            <td>183.15</td>\n",
       "            <td>91.58</td>\n",
       "            <td>8.72</td>\n",
       "        </tr>\n",
       "        <tr>\n",
       "            <td>Other</td>\n",
       "            <td>15</td>\n",
       "            <td>1094.94</td>\n",
       "            <td>73.0</td>\n",
       "            <td>7.45</td>\n",
       "        </tr>\n",
       "    </tbody>\n",
       "</table>"
      ],
      "text/plain": [
       "[('USA', 13, 1040.49, 80.04, 7.94),\n",
       " ('Canada', 8, 535.59, 66.95, 7.05),\n",
       " ('Brazil', 5, 427.68, 85.54, 7.01),\n",
       " ('France', 5, 389.07, 77.81, 7.78),\n",
       " ('Germany', 4, 334.62, 83.66, 8.16),\n",
       " ('Czech Republic', 2, 273.24, 136.62, 9.11),\n",
       " ('United Kingdom', 3, 245.52, 81.84, 8.77),\n",
       " ('Portugal', 2, 185.13, 92.57, 6.38),\n",
       " ('India', 2, 183.15, 91.58, 8.72),\n",
       " ('Other', 15, 1094.94, 73.0, 7.45)]"
      ]
     },
     "execution_count": 8,
     "metadata": {},
     "output_type": "execute_result"
    }
   ],
   "source": [
    "%%sql\n",
    "--# important to get required columns first, and then later categorize countries with one customer as \"Other\"\n",
    "WITH country_customer AS \n",
    "    (SELECT c.customer_id,\n",
    "            i.invoice_id,\n",
    "            i.total,\n",
    "            CASE\n",
    "                WHEN (\n",
    "                     SELECT COUNT(*)\n",
    "                     FROM customer\n",
    "                     WHERE country = c.country\n",
    "                     --# /*WHERE `country` from the inner query is equal to `country`\n",
    "                     --#   from the outer query*/\n",
    "                     ) = 1 THEN \"Other\"\n",
    "                ELSE c.country\n",
    "            END AS country --# this will be our `country` column from the `customer` table, not `invoice`\n",
    "    FROM invoice i\n",
    "    LEFT JOIN customer c ON c.customer_id = i.customer_id)\n",
    "\n",
    "SELECT country,\n",
    "       number_of_customers,\n",
    "       total_sales,\n",
    "       avg_value_per_customer,\n",
    "       avg_value_per_order\n",
    "FROM (  --# /*will need to query out of this subquery so that we don't see the sort column, \n",
    "        --#   but \"Other\" is still forced to the bottom*/\n",
    "        SELECT country,\n",
    "           --# summary statistics calculations to get the final required data\n",
    "               COUNT(DISTINCT(customer_id)) AS number_of_customers,\n",
    "               ROUND(SUM(total), 2) AS total_sales,\n",
    "               ROUND(SUM(total) / COUNT(DISTINCT(customer_id)), 2) AS avg_value_per_customer,\n",
    "               ROUND(SUM(total) / COUNT(DISTINCT(invoice_id)), 2) AS avg_value_per_order,\n",
    "               CASE --# force the ordering of \"Other\" by creating a \"unseen\" sorting column\n",
    "                   WHEN country = 'Other' THEN 1\n",
    "                   ELSE 0\n",
    "               END AS sort\n",
    "        FROM country_customer\n",
    "        GROUP BY country\n",
    "        ORDER BY sort, total_sales DESC\n",
    "     )"
   ]
  },
  {
   "cell_type": "markdown",
   "metadata": {},
   "source": [
    "# Can we afford to take some shortcuts to save money?\n",
    "The Chinook store is structured in such a way that customers can only make purchases one of two ways: either purchase a whole album or purchase a collage of one or more individual tracks. In addition, customers are not allowed to make an album purchase and then add a couple more individual tracks onto the same invoice and vice versa. However, purchasing an entire album is not at all any more expensive or cheaper than if one were to purchase all the tracks of an album separately as individual tracks (previous analyses have already showed customers don't have a history of doing this).\n",
    "\n",
    "Management at Chinook wants to find a way to somehow save money. To do that, they are proposing purchasing only the most popular tracks from an album instead of all the tracks from said album. It is up to us, as data analysts, with being tasked to find out if this is really a good idea. We have been instructed to find out what percentage of purchases are individual tracks vs entire albums so that management can use this data to see whether this change in purchasing strategy will have some sort of effect on overall revenue."
   ]
  },
  {
   "cell_type": "code",
   "execution_count": 9,
   "metadata": {},
   "outputs": [
    {
     "name": "stdout",
     "output_type": "stream",
     "text": [
      " * sqlite:///chinook.db\n",
      "Done.\n"
     ]
    },
    {
     "data": {
      "text/html": [
       "<table>\n",
       "    <thead>\n",
       "        <tr>\n",
       "            <th>album_purchase</th>\n",
       "            <th>number_of_invoices</th>\n",
       "            <th>percent</th>\n",
       "        </tr>\n",
       "    </thead>\n",
       "    <tbody>\n",
       "        <tr>\n",
       "            <td>no</td>\n",
       "            <td>500</td>\n",
       "            <td>0.814</td>\n",
       "        </tr>\n",
       "        <tr>\n",
       "            <td>yes</td>\n",
       "            <td>114</td>\n",
       "            <td>0.186</td>\n",
       "        </tr>\n",
       "    </tbody>\n",
       "</table>"
      ],
      "text/plain": [
       "[('no', 500, 0.814), ('yes', 114, 0.186)]"
      ]
     },
     "execution_count": 9,
     "metadata": {},
     "output_type": "execute_result"
    }
   ],
   "source": [
    "%%sql\n",
    "--# start by creating a subquery that finds the first track of an album for each invoice\n",
    "--# will use these first tracks to find the album associated with each invoice\n",
    "WITH invoice_first_track AS\n",
    "(\n",
    "SELECT il.invoice_id, \n",
    "       MIN(il.track_id) AS first_track_id\n",
    "FROM invoice_line il\n",
    "GROUP BY il.invoice_id\n",
    ")\n",
    "\n",
    "SELECT album_purchase,\n",
    "       COUNT(invoice_id) AS number_of_invoices,\n",
    "    --# calculate percentages (this is what we really want)\n",
    "        ROUND(CAST(COUNT(invoice_id) AS FLOAT) / (SELECT COUNT (*)\n",
    "                                                 FROM invoice), 3) AS percent\n",
    "FROM (\n",
    "    SELECT ifs.*,\n",
    "           --# /*using a CASE statement, create an entire new column that categorizes \n",
    "           --#   every invoice as either an album or individual track purchase*/\n",
    "           CASE WHEN (--# list of tracks from album\n",
    "                      SELECT t.track_id\n",
    "                      FROM track t\n",
    "                      WHERE t.album_id = (SELECT t2.album_id\n",
    "                                          FROM track t2\n",
    "                                          WHERE t2.track_id = ifs.first_track_id)\n",
    "\n",
    "                      EXCEPT\n",
    "\n",
    "                      --# list of tracks from invoice\n",
    "                      SELECT il2.track_id\n",
    "                      FROM invoice_line il2\n",
    "                      WHERE il2.invoice_id = ifs.invoice_id) IS NULL\n",
    "\n",
    "                      AND --# use same queries but switch ordering use in second EXCEPT\n",
    "                          --# /*want to see if NULL AND NULL (album) or\n",
    "                          --#   either NULL AND NOT NULL or NOT NULL AND NULL (not album)*/\n",
    "\n",
    "                     (--# list of tracks from invoice\n",
    "                      SELECT il2.track_id\n",
    "                      FROM invoice_line il2\n",
    "                      WHERE il2.invoice_id = ifs.invoice_id\n",
    "\n",
    "                      EXCEPT\n",
    "\n",
    "                      --# list of tracks from album\n",
    "                      SELECT t.track_id\n",
    "                      FROM track t\n",
    "                      WHERE t.album_id = (SELECT t2.album_id\n",
    "                                          FROM track t2\n",
    "                                          WHERE t2.track_id = ifs.first_track_id)) IS NULL\n",
    "                THEN \"yes\" --# /*if result is NULL AND NULL or True (is an album, \n",
    "                           --#   list of tracks in invoice has all tracks in album)*/\n",
    "                \n",
    "                ELSE \"no\"  --# /*if result is NULL AND NOT NULL or False (not an album,\n",
    "                           --#   invoice has missing tracks/remainder tracks present in album tracklist\n",
    "                           --#   when subtracting invoice tracklist from album tracklist)*/\n",
    "           END AS \"album_purchase\"\n",
    "    FROM invoice_first_track ifs\n",
    "    )\n",
    "GROUP BY album_purchase"
   ]
  },
  {
   "cell_type": "code",
   "execution_count": 10,
   "metadata": {},
   "outputs": [
    {
     "data": {
      "image/png": "[encoded data removed]",
      "text/plain": [
       "<Figure size 432x288 with 1 Axes>"
      ]
     },
     "metadata": {},
     "output_type": "display_data"
    }
   ],
   "source": [
    "# plot output into a pie chart\n",
    "import matplotlib.pyplot as plt\n",
    "\n",
    "labels = ['Not Album (no)', 'Album (yes)']\n",
    "sizes = [81.4, 18.6]\n",
    "colors = ['salmon','paleturquoise']\n",
    "\n",
    "fig1, ax1 = plt.subplots()\n",
    "patches, texts, autotexts = ax1.pie(sizes, colors=colors, labels=labels, autopct='%1.1f%%', startangle=90)\n",
    "ax1.axis('equal')  \n",
    "plt.title('Album vs Individual Track Purchases', size=20)\n",
    "plt.tight_layout()\n",
    "plt.show()"
   ]
  },
  {
   "cell_type": "markdown",
   "metadata": {},
   "source": [
    "After aggregating all of our data into categories of whether they are album or individual track purchases, we have found that 81.4% of all invoices are individual track purchases, while 18.6% of invoices are album purchases.\n",
    "\n",
    "I would heavily advise against not purchasing entire albums from record labels as we could lose up to 20% of all our revenue by going down that path. It is far too risky to wager losing nearly 20% of revenue just to save some money when purchasing tracks or albums."
   ]
  },
  {
   "cell_type": "markdown",
   "metadata": {},
   "source": [
    "# Conclusion\n",
    "Chinook wants to be mindful of their budget and be able to make good business decisions that can optimize sales. It is a small and relatively new business, so it must be able to avoid any slipups and make good decisions with where and how its money should be allocated. It is our job, as data analysts to use data to clearly provide and communicate to Chinook management the information they need to make informed business decisions. \n",
    "\n",
    "We were able to find all of what we were looking for by querying out of the Chinook database with very specific criteria and calculations using SQL. Using the data we already have, we obtained a better idea of what genre of music our American customers like, the sales performance of our employees, our international sales, and a mass categorization/aggregation of all of our invoices.  From these insights, we were able to make better decisions and know exactly what to do and not what to do when making track or album purchases with partnered record labels as well as where we should direct our energy and attention to how we should sell our music."
   ]
  },
  {
   "cell_type": "markdown",
   "metadata": {},
   "source": [
    "# Acknowledgements\n",
    "This is a guided project from the online data science learning platform \"Dataquest\". \n",
    " - https://app.dataquest.io/m/256/querying-sqlite-from-python/1/overview\n",
    "\n",
    "Chinook music store and the data used in this project are entirely fictional."
   ]
  }
 ],
 "metadata": {
  "kernelspec": {
   "display_name": "Python 3",
   "language": "python",
   "name": "python3"
  },
  "language_info": {
   "codemirror_mode": {
    "name": "ipython",
    "version": 3
   },
   "file_extension": ".py",
   "mimetype": "text/x-python",
   "name": "python",
   "nbconvert_exporter": "python",
   "pygments_lexer": "ipython3",
   "version": "3.8.5"
  }
 },
 "nbformat": 4,
 "nbformat_minor": 4
}
